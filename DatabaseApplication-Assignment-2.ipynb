{
 "cells": [
  {
   "cell_type": "markdown",
   "id": "66e71f7d",
   "metadata": {},
   "source": [
    "**Name of the Student:** <br>\n",
    "**Roll number:**    "
   ]
  },
  {
   "cell_type": "code",
   "execution_count": null,
   "id": "d64873da",
   "metadata": {},
   "outputs": [],
   "source": [
    "# import required libraries\n",
    "import psycopg2\n",
    "import pandas as pd\n",
    "import pandas.io.sql as sqlio"
   ]
  },
  {
   "cell_type": "markdown",
   "id": "2579abb2",
   "metadata": {},
   "source": [
    "### Use NorthWind Database for Q.1 to Q.17"
   ]
  },
  {
   "cell_type": "code",
   "execution_count": null,
   "id": "303833c7",
   "metadata": {},
   "outputs": [],
   "source": [
    "# Set up connection with NorthWind Database\n",
    "\n"
   ]
  },
  {
   "cell_type": "markdown",
   "id": "65aa6dd9",
   "metadata": {},
   "source": [
    "1. Which shippers do we have?( Hint: We have a table called Shippers. Return all the fields from all the shippers)"
   ]
  },
  {
   "cell_type": "code",
   "execution_count": null,
   "id": "6d841b4f",
   "metadata": {},
   "outputs": [],
   "source": []
  },
  {
   "cell_type": "markdown",
   "id": "6799b3c8",
   "metadata": {},
   "source": [
    "2. Write a SQL query to see first name, last name and hire date of all the employees with the title of **sales representative.**"
   ]
  },
  {
   "cell_type": "code",
   "execution_count": null,
   "id": "851d344e",
   "metadata": {},
   "outputs": [],
   "source": []
  },
  {
   "cell_type": "markdown",
   "id": "5c80ab79",
   "metadata": {},
   "source": [
    "3. Write a SQL query to extract first name, last name and hire date of only those employees that have the title of Sales Representative, and also are in the United States."
   ]
  },
  {
   "cell_type": "code",
   "execution_count": null,
   "id": "00b2b4a3",
   "metadata": {},
   "outputs": [],
   "source": []
  },
  {
   "cell_type": "markdown",
   "id": "3ec1ef81",
   "metadata": {},
   "source": [
    "4. Show all the orders placed by the Employee \"Stevan Buchanan\" whose employee id is 5."
   ]
  },
  {
   "cell_type": "code",
   "execution_count": null,
   "id": "9b3c0e37",
   "metadata": {},
   "outputs": [],
   "source": []
  },
  {
   "cell_type": "markdown",
   "id": "f4aeb311",
   "metadata": {},
   "source": [
    "5. Show the SupplierID, ContactName and ContactTitle for those suppliers whose ContactTitle is not Marketing Manager. (Hint: Suppliers Table)"
   ]
  },
  {
   "cell_type": "code",
   "execution_count": null,
   "id": "1f909d30",
   "metadata": {},
   "outputs": [],
   "source": []
  },
  {
   "cell_type": "markdown",
   "id": "313f8f7e",
   "metadata": {},
   "source": [
    "6. Write a SQL query to see the ProductID and ProductName for those products where the ProductName includes the string \"queso\""
   ]
  },
  {
   "cell_type": "code",
   "execution_count": null,
   "id": "6e5e9a5b",
   "metadata": {},
   "outputs": [],
   "source": []
  },
  {
   "cell_type": "markdown",
   "id": "c4927087",
   "metadata": {},
   "source": [
    "7. Write a query that shows the OrderID, CustomerID and ShipCountry for the orders where the ShipCountry is either France or Belgium."
   ]
  },
  {
   "cell_type": "code",
   "execution_count": null,
   "id": "c1c073af",
   "metadata": {},
   "outputs": [],
   "source": []
  },
  {
   "cell_type": "markdown",
   "id": "38f58916",
   "metadata": {},
   "source": [
    "8. For all the employees table, show the FirstName, LastName, Title and BirthDate. Order the results by BirthDate, so we have the oldest employees first."
   ]
  },
  {
   "cell_type": "code",
   "execution_count": null,
   "id": "6f26fb79",
   "metadata": {},
   "outputs": [],
   "source": []
  },
  {
   "cell_type": "markdown",
   "id": "e274c56d",
   "metadata": {},
   "source": [
    "9. In the output of the query above, Show only the date portion of the BirthDate field."
   ]
  },
  {
   "cell_type": "code",
   "execution_count": null,
   "id": "19beea2f",
   "metadata": {},
   "outputs": [],
   "source": []
  },
  {
   "cell_type": "markdown",
   "id": "7acff1cb",
   "metadata": {},
   "source": [
    "10. Show the firstName and LastName columns from the Employees table, and then create a new column called FullName, showing FirstName and LastName joined together in one column, with a space in-between."
   ]
  },
  {
   "cell_type": "code",
   "execution_count": null,
   "id": "98b0f488",
   "metadata": {},
   "outputs": [],
   "source": []
  },
  {
   "cell_type": "markdown",
   "id": "79c60d74",
   "metadata": {},
   "source": [
    "11. In the OrderDetails table, Create a new field, Total Price that multiplies UnitPrice and Quantity. In addition, show the OrderID, ProductID, UnitPrice and Quantity. Order by OrderID and ProductID."
   ]
  },
  {
   "cell_type": "code",
   "execution_count": null,
   "id": "3bf6606c",
   "metadata": {},
   "outputs": [],
   "source": []
  },
  {
   "cell_type": "markdown",
   "id": "84874fcd",
   "metadata": {},
   "source": [
    "12. How many customers do we have in the Customers table? Show one value only."
   ]
  },
  {
   "cell_type": "code",
   "execution_count": null,
   "id": "c92c61e0",
   "metadata": {},
   "outputs": [],
   "source": []
  },
  {
   "cell_type": "markdown",
   "id": "b26778c3",
   "metadata": {},
   "source": [
    "13. Show the date of the first order ever made in the Orders table."
   ]
  },
  {
   "cell_type": "code",
   "execution_count": null,
   "id": "27d95355",
   "metadata": {},
   "outputs": [],
   "source": []
  },
  {
   "cell_type": "markdown",
   "id": "37b25123",
   "metadata": {},
   "source": [
    "14. Show a list of countries where the Northwind company has customers."
   ]
  },
  {
   "cell_type": "code",
   "execution_count": null,
   "id": "c62a9d08",
   "metadata": {},
   "outputs": [],
   "source": []
  },
  {
   "cell_type": "markdown",
   "id": "55165380",
   "metadata": {},
   "source": [
    "15. Show a list of all the diffrent values in the Customers table for ContactTitles. Also, include count for each ContactTitle"
   ]
  },
  {
   "cell_type": "code",
   "execution_count": null,
   "id": "0d091027",
   "metadata": {},
   "outputs": [],
   "source": []
  },
  {
   "cell_type": "markdown",
   "id": "7ef53152",
   "metadata": {},
   "source": [
    "16. Show the ProductID, ProductName, and the CompanyName of the Supplier. Sort by ProductID. (Hint: use Products and Suppliers Table)"
   ]
  },
  {
   "cell_type": "code",
   "execution_count": null,
   "id": "5aed5a4e",
   "metadata": {},
   "outputs": [],
   "source": []
  },
  {
   "cell_type": "markdown",
   "id": "9b32bd79",
   "metadata": {},
   "source": [
    "17. Show the OrderID, OrderDate(date only) and CompanyName of the Shipper, and sort by OrderID. ALso, Show only those rows with an OrderID of less than 10300."
   ]
  },
  {
   "cell_type": "code",
   "execution_count": null,
   "id": "795d44b7",
   "metadata": {},
   "outputs": [],
   "source": []
  },
  {
   "cell_type": "markdown",
   "id": "6769a982",
   "metadata": {},
   "source": [
    "## Use DVD Rental Database"
   ]
  },
  {
   "cell_type": "markdown",
   "id": "0764a48f",
   "metadata": {},
   "source": [
    "18. Find the difference between the total number of CITY entries in the table and the number of distinct CITY entries in the table."
   ]
  },
  {
   "cell_type": "code",
   "execution_count": null,
   "id": "c684d9bb",
   "metadata": {},
   "outputs": [],
   "source": []
  },
  {
   "cell_type": "markdown",
   "id": "2f7cf837",
   "metadata": {},
   "source": [
    "19. Find the duplicate city enteries in the city table "
   ]
  },
  {
   "cell_type": "code",
   "execution_count": null,
   "id": "fd9450e6",
   "metadata": {},
   "outputs": [],
   "source": []
  },
  {
   "cell_type": "markdown",
   "id": "9379d3f3",
   "metadata": {},
   "source": [
    "20. Find all the cities with even city_id."
   ]
  },
  {
   "cell_type": "code",
   "execution_count": null,
   "id": "4eaa6a28",
   "metadata": {},
   "outputs": [],
   "source": []
  },
  {
   "cell_type": "markdown",
   "id": "41965560",
   "metadata": {},
   "source": [
    "21. Find all the cities with odd city_id."
   ]
  },
  {
   "cell_type": "code",
   "execution_count": null,
   "id": "6e7a86c9",
   "metadata": {},
   "outputs": [],
   "source": []
  },
  {
   "cell_type": "markdown",
   "id": "fc13507c",
   "metadata": {},
   "source": [
    "22. Query the two cities in city table with the shortest and longest CITY names, as well as their respective lengths (i.e.: number of characters in the name). If there is more than one smallest or largest city, choose the one that comes first when ordered alphabetically."
   ]
  },
  {
   "cell_type": "code",
   "execution_count": null,
   "id": "d93b4807",
   "metadata": {},
   "outputs": [],
   "source": []
  },
  {
   "cell_type": "markdown",
   "id": "9130da61",
   "metadata": {},
   "source": [
    "23. Query the list of country names starting with vowels (i.e., a, e, i, o, or u) from country table. Your result cannot contain duplicates."
   ]
  },
  {
   "cell_type": "code",
   "execution_count": null,
   "id": "600a4601",
   "metadata": {},
   "outputs": [],
   "source": []
  },
  {
   "cell_type": "markdown",
   "id": "a117f928",
   "metadata": {},
   "source": [
    "24. Query the list of country names ending with vowels (a, e, i, o, u) from country table. Your result cannot contain duplicates."
   ]
  },
  {
   "cell_type": "code",
   "execution_count": null,
   "id": "a5096899",
   "metadata": {},
   "outputs": [],
   "source": []
  },
  {
   "cell_type": "markdown",
   "id": "f9cba748",
   "metadata": {},
   "source": [
    "25. Query the list of country names from country which have vowels (i.e., a, e, i, o, and u) as both their first and last characters. Your result cannot contain duplicates."
   ]
  },
  {
   "cell_type": "code",
   "execution_count": null,
   "id": "98c36528",
   "metadata": {},
   "outputs": [],
   "source": []
  },
  {
   "cell_type": "markdown",
   "id": "5f8a281c",
   "metadata": {},
   "source": [
    "26. Write a query to get the first_name from the actor table in the upper case using the alias name as ActorName."
   ]
  },
  {
   "cell_type": "code",
   "execution_count": null,
   "id": "6e5011e6",
   "metadata": {},
   "outputs": [],
   "source": []
  },
  {
   "cell_type": "markdown",
   "id": "a6708d81",
   "metadata": {},
   "source": [
    "27. Write a query to fetch the current date?"
   ]
  },
  {
   "cell_type": "code",
   "execution_count": null,
   "id": "7d818ab0",
   "metadata": {},
   "outputs": [],
   "source": []
  }
 ],
 "metadata": {
  "kernelspec": {
   "display_name": "Python 3 (ipykernel)",
   "language": "python",
   "name": "python3"
  },
  "language_info": {
   "codemirror_mode": {
    "name": "ipython",
    "version": 3
   },
   "file_extension": ".py",
   "mimetype": "text/x-python",
   "name": "python",
   "nbconvert_exporter": "python",
   "pygments_lexer": "ipython3",
   "version": "3.9.7"
  }
 },
 "nbformat": 4,
 "nbformat_minor": 5
}
